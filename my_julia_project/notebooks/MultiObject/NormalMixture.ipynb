{
 "cells": [
  {
   "cell_type": "code",
   "execution_count": 1,
   "metadata": {},
   "outputs": [
    {
     "name": "stderr",
     "output_type": "stream",
     "text": [
      "\u001b[32m\u001b[1m  Activating\u001b[22m\u001b[39m project at `/ws`\n",
      "┌ Warning: The active manifest file is an older format with no julia version entry. Dependencies may have been resolved with a different julia version.\n",
      "└ @ nothing /ws/Manifest.toml:0\n"
     ]
    }
   ],
   "source": [
    "import Pkg; \n",
    "Pkg.activate(\"..\"); Pkg.instantiate();\n",
    "using RxInfer, Random, Plots, StableRNGs, Distributions"
   ]
  },
  {
   "cell_type": "code",
   "execution_count": 2,
   "metadata": {},
   "outputs": [
    {
     "data": {
      "text/plain": [
       "generate_data (generic function with 1 method)"
      ]
     },
     "metadata": {},
     "output_type": "display_data"
    }
   ],
   "source": [
    "rng   = StableRNG(1234)\n",
    "\n",
    "datastream   = Subject(Float64)\n",
    "observations = labeled(Val((:y, )), combineLatest(datastream))\n",
    "\n",
    "position, noise = 1, 0.1\n",
    "\n",
    "function generate_data(rng, x, v)\n",
    "  noise = rand(rng, Normal(0, v))\n",
    "  y = x + noise\n",
    "  return y\n",
    "end"
   ]
  },
  {
   "cell_type": "code",
   "execution_count": 3,
   "metadata": {},
   "outputs": [
    {
     "name": "stdout",
     "output_type": "stream",
     "text": [
      "(y = 1.051949454850376,)\n",
      "(y = 1.0905139726861126,)\n",
      "(y = 0.8324338842090443,)\n",
      "(y = 0.8705266555587259,)\n",
      "(y = 0.9315634529141368,)\n"
     ]
    }
   ],
   "source": [
    "# Testing the datastream\n",
    "test_subscribtion = subscribe!(observations, (data) -> println(data))\n",
    "\n",
    "for i in 1:5\n",
    "  data = generate_data(rng, position, noise)\n",
    "  next!(datastream, data)\n",
    "end\n",
    "\n",
    "unsubscribe!(test_subscribtion)"
   ]
  },
  {
   "cell_type": "code",
   "execution_count": 4,
   "metadata": {},
   "outputs": [
    {
     "data": {
      "text/plain": [
       "@autoupdates begin\n",
       "    _t = params(q(sw))\n",
       "    (_m1_u, _m1_v) = params(q(m[1]))\n",
       "    (_w1_s, _w1_r) = params(q(w[1]))\n",
       "    (_m2_u, _m2_v) = params(q(m[2]))\n",
       "    (_w2_s, _w2_r) = params(q(w[2]))\n",
       "end\n"
      ]
     },
     "metadata": {},
     "output_type": "display_data"
    }
   ],
   "source": [
    "# Defining the model\n",
    "@model function model(y, _t, _m1_u, _m1_v, _w1_s, _w1_r, _m2_u, _m2_v, _w2_s, _w2_r)\n",
    "  sw ~ Categorical(_t)\n",
    "\n",
    "  m[1] ~ Normal(mean = _m1_u, variance = _m1_v)\n",
    "  w[1] ~ Gamma(shape = _w1_s, rate = _w1_r)\n",
    "\n",
    "  m[2] ~ Normal(mean = _m2_u, variance = _m2_v)\n",
    "  w[2] ~ Gamma(shape = _w2_s, rate = _w2_r)\n",
    "\n",
    "  y ~ NormalMixture(switch=sw, m=m, p=w)\n",
    "end\n",
    "\n",
    "model_autoupdates = @autoupdates begin\n",
    "  _t = params(q(sw))\n",
    "  _m1_u, _m1_v = params(q(m[1]))\n",
    "  _w1_s, _w1_r = params(q(w[1]))\n",
    "  _m2_u, _m2_v = params(q(m[2]))\n",
    "  _w2_s, _w2_r = params(q(w[2]))\n",
    "end"
   ]
  },
  {
   "cell_type": "code",
   "execution_count": 5,
   "metadata": {},
   "outputs": [
    {
     "data": {
      "text/plain": [
       "RxInferenceEngine:\n",
       "  Posteriors stream    | enabled for (m, w, sw)\n",
       "  Free Energy stream   | enabled\n",
       "  Posteriors history   | available for (m, w, sw)\n",
       "  Free Energy history  | available\n",
       "  Enabled events       | [  ]"
      ]
     },
     "metadata": {},
     "output_type": "display_data"
    }
   ],
   "source": [
    "imarginals = @initialization begin\n",
    "  q(sw) = Categorical([0.5, 0.5])\n",
    "  q(m) = [NormalMeanVariance(-2.0, 1e3), NormalMeanVariance(2.0, 1e3)]\n",
    "  q(w) = [vague(GammaShapeRate), vague(GammaShapeRate)]\n",
    "  #q(m) = [Normal(0, 1), Normal(1, 1)]\n",
    "  #q(w) = [Gamma(1, 1), Gamma(1, 1)]\n",
    "end\n",
    "\n",
    "ireturnvars = (\n",
    "  sw = KeepLast(),\n",
    "  m = KeepLast(),\n",
    "  w = KeepLast(),\n",
    ")\n",
    "\n",
    "engine = infer(\n",
    "  model           = model(),\n",
    "  constraints     = MeanField(),\n",
    "  datastream      = observations,\n",
    "  autoupdates     = model_autoupdates,\n",
    "  initialization  = imarginals,\n",
    "  #iterations      = 10,\n",
    "  keephistory     = 100,\n",
    "  historyvars     = ireturnvars,\n",
    "  autostart       = false,\n",
    "  free_energy     = true,\n",
    "  #addons          = AddonLogScale(),\n",
    "  postprocess     = UnpackMarginalPostprocess(),\n",
    ")"
   ]
  },
  {
   "cell_type": "code",
   "execution_count": 6,
   "metadata": {},
   "outputs": [],
   "source": [
    "# Start the engine\n",
    "RxInfer.start(engine)\n",
    "\n",
    "# Generate some data\n",
    "for i in 1:100\n",
    "  data = generate_data(rng, position, noise)\n",
    "  next!(datastream, data)\n",
    "end\n",
    "\n"
   ]
  },
  {
   "cell_type": "code",
   "execution_count": 7,
   "metadata": {},
   "outputs": [],
   "source": [
    "RxInfer.stop(engine)"
   ]
  },
  {
   "cell_type": "code",
   "execution_count": 15,
   "metadata": {},
   "outputs": [
    {
     "name": "stdout",
     "output_type": "stream",
     "text": [
      "NormalWeightedMeanPrecision{Float64}(xi=4.6569247226005743e11, w=5.00000000000001e11)\n"
     ]
    },
    {
     "name": "stderr",
     "output_type": "stream",
     "text": [
      "┌ Info: Saved animation to /ws/notebooks/normal_mixture.gif\n",
      "└ @ Plots /root/.julia/packages/Plots/Ec1L1/src/animation.jl:156\n"
     ]
    },
    {
     "data": {
      "text/html": [
       "<img src=\"data:image/gif;base64,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\" />"
      ],
      "text/plain": [
       "Plots.AnimatedGif(\"/ws/notebooks/normal_mixture.gif\")"
      ]
     },
     "metadata": {},
     "output_type": "display_data"
    }
   ],
   "source": [
    "println(engine.history[:m][1][1])\n",
    "# Plot the results\n",
    "anim = @animate for i in 1:100\n",
    "  r = range(0, 3, length=1000)\n",
    "  p = plot(r, (x) -> pdf.(Normal(position, noise), x), label=\"True\")\n",
    "\n",
    "  p = plot!(r, (x) -> pdf.(engine.history[:m][3][1], x), label=\"Normal 1\")\n",
    "  p = plot!(r, (x) -> pdf.(engine.history[:m][3][2], x), label=\"Normal 2\")\n",
    "end\n",
    "\n",
    "gif(anim, \"normal_mixture.gif\", fps = 5)"
   ]
  },
  {
   "cell_type": "code",
   "execution_count": 9,
   "metadata": {},
   "outputs": [],
   "source": []
  }
 ],
 "metadata": {
  "kernelspec": {
   "display_name": "Julia 1.11.2",
   "language": "julia",
   "name": "julia-1.11"
  },
  "language_info": {
   "file_extension": ".jl",
   "mimetype": "application/julia",
   "name": "julia",
   "version": "1.11.2"
  }
 },
 "nbformat": 4,
 "nbformat_minor": 2
}
