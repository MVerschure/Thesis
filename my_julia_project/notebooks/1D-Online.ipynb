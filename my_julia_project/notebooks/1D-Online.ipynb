{
 "cells": [
  {
   "cell_type": "code",
   "execution_count": 1,
   "metadata": {},
   "outputs": [
    {
     "name": "stderr",
     "output_type": "stream",
     "text": [
      "\u001b[32m\u001b[1m  Activating\u001b[22m\u001b[39m project at `/ws`\n",
      "┌ Warning: The active manifest file is an older format with no julia version entry. Dependencies may have been resolved with a different julia version.\n",
      "└ @ nothing /ws/Manifest.toml:0\n"
     ]
    }
   ],
   "source": [
    "import Pkg; \n",
    "Pkg.activate(\"..\"); Pkg.instantiate();\n",
    "using RxInfer, Random, Plots, StableRNGs"
   ]
  },
  {
   "cell_type": "code",
   "execution_count": 8,
   "metadata": {},
   "outputs": [
    {
     "name": "stdout",
     "output_type": "stream",
     "text": [
      "2.8235609212316914\n",
      "nothing\n",
      "2.663035010904655\n",
      "2.0903987737717267\n",
      "nothing\n",
      "3.248673072608817\n",
      "2.9972196605604147\n",
      "2.58147419312737\n",
      "2.4015814417832106\n",
      "2.274683140935196\n"
     ]
    }
   ],
   "source": [
    "# DATA GENERATION\n",
    "# - This function should sometimes return nothing, and sometimes return a measurement a 1D position.\n",
    "\n",
    "rng      = StableRNG(42)\n",
    "position = 2.6\n",
    "variance = 0.5 # Variance of measurements over position\n",
    "theta    = 0.8 # Chance of measureing something \n",
    "\n",
    "function generate_data()\n",
    "  p = rand(rng, Bernoulli(theta))\n",
    "  if p\n",
    "    x = rand(rng, Normal(position, variance))\n",
    "    return x\n",
    "  else\n",
    "    x = nothing\n",
    "    return x\n",
    "  end\n",
    "end\n",
    "\n",
    "for i in 1:10\n",
    "  println(generate_data())\n",
    "end"
   ]
  },
  {
   "cell_type": "code",
   "execution_count": null,
   "metadata": {},
   "outputs": [],
   "source": []
  }
 ],
 "metadata": {
  "kernelspec": {
   "display_name": "Julia 1.11.2",
   "language": "julia",
   "name": "julia-1.11"
  },
  "language_info": {
   "file_extension": ".jl",
   "mimetype": "application/julia",
   "name": "julia",
   "version": "1.11.2"
  }
 },
 "nbformat": 4,
 "nbformat_minor": 2
}
